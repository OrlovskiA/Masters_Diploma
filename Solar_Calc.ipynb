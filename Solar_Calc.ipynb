{
 "cells": [
  {
   "cell_type": "code",
   "execution_count": null,
   "id": "29a2b96a",
   "metadata": {},
   "outputs": [],
   "source": [
    "conda install -c conda-forge ipyleaflet"
   ]
  },
  {
   "cell_type": "code",
   "execution_count": null,
   "id": "2f216932",
   "metadata": {},
   "outputs": [],
   "source": [
    "pip install haversine "
   ]
  },
  {
   "cell_type": "code",
   "execution_count": null,
   "id": "80b23d08",
   "metadata": {},
   "outputs": [],
   "source": [
    "from IPython import get_ipython\n",
    "from ipyleaflet import Map, Marker, basemaps\n",
    "import pandas as pd\n",
    "import requests"
   ]
  },
  {
   "cell_type": "code",
   "execution_count": null,
   "id": "9537ab06",
   "metadata": {},
   "outputs": [],
   "source": [
    "center = (47.016667, 28.833333)\n",
    "m = Map(basemap=basemaps.OpenStreetMap.Mapnik, center=center, zoom=7)\n",
    "marker = Marker(location=center, draggable=True)\n",
    "m.add_layer(marker)\n",
    "display(m)\n",
    "def handle_click(**kwargs):\n",
    "    print('Широта, долгота: ', kwargs['coordinates'])\n",
    "marker.on_click(handle_click)\n",
    "#Чтобы узнать координаты, переместите маркер на нужную точку и нажмите на него"
   ]
  },
  {
   "cell_type": "code",
   "execution_count": null,
   "id": "62650ef2",
   "metadata": {},
   "outputs": [],
   "source": [
    "#Задай координаты точки в десятичном виде (lat, lon) #X = (47.016667, 28.833333) \n",
    "X1 = float(input('Задай широту в десятичном виде:\\n'))\n",
    "X2 = float(input('Задай долготу в десятичном виде:\\n'))"
   ]
  },
  {
   "cell_type": "code",
   "execution_count": null,
   "id": "18ea0e78",
   "metadata": {},
   "outputs": [],
   "source": [
    "#Функция по определению выработки СЭС\n",
    "def PV_Energy(Peak_Power, X1, X2):\n",
    "    X = (X1, X2)\n",
    "    Optim_an = False\n",
    "    Optim_az = False\n",
    "    u=()\n",
    "    Optim_angles = str(input('Оптимизировать угол установки? (Да/Нет)\\n'))\n",
    "    if Optim_angles.lower() == \"да\":\n",
    "        Optim_an = True\n",
    "    else:\n",
    "        Angle = float(input('Задай угол установки:\\n'))\n",
    "    Optim_azimut = str(input('Оптимизировать азимут установки? (Да/Нет)\\n'))\n",
    "    if Optim_azimut.lower() == \"да\":\n",
    "        Optim_az = True\n",
    "    else:\n",
    "        Azimut = float(input('Задай азимут установки:\\n'))\n",
    "    if (Optim_an is True) and Optim_az is True: #Оптим. все\n",
    "        u = 'https://re.jrc.ec.europa.eu/api/v5_2/PVcalc?' + 'lat=' + str(X1) + '&lon=' + str(X2) + '&peakpower=' + str(Peak_Power) + '&pvtechchoice=crystSi&loss=14&optimalangles=1&outputformat=json'\n",
    "    elif (Optim_an is False) and Optim_az is False: #Задай все\n",
    "        u = 'https://re.jrc.ec.europa.eu/api/v5_2/PVcalc?' + 'lat=' + str(X1) + '&lon=' + str(X2) + '&peakpower=' + str(Peak_Power) + '&pvtechchoice=crystSi&loss=14&angle=' + str(Angle) + '&aspect=' + str(Azimut) + '&outputformat=json'\n",
    "    elif (Optim_an is True) and Optim_az is False: #Задай все\n",
    "        u = 'https://re.jrc.ec.europa.eu/api/v5_2/PVcalc?' + 'lat=' + str(X1) + '&lon=' + str(X2) + '&peakpower=' + str(Peak_Power) + '&pvtechchoice=crystSi&loss=14&optimalinclination=1&aspect=' + str(Azimut) + '&outputformat=json'\n",
    "    elif (Optim_an is False) and Optim_az is True: #Задай все\n",
    "        u = 'https://re.jrc.ec.europa.eu/api/v5_2/PVcalc?' + 'lat=' + str(X1) + '&lon=' + str(X2) + '&peakpower=' + str(Peak_Power) + '&pvtechchoice=crystSi&loss=14&angle=' + str(Angle) + '&aspect=0&outputformat=json'\n",
    "    url = u\n",
    "    r = requests.get(url)\n",
    "    json = r.json()\n",
    "    Z = json['outputs']['totals']['fixed']['E_y']\n",
    "    Ugol = json['inputs']['mounting_system']['fixed']['slope']['value']\n",
    "    Azimut = json['inputs']['mounting_system']['fixed']['azimuth']['value']\n",
    "    return(Z, Ugol, Azimut)"
   ]
  },
  {
   "cell_type": "code",
   "execution_count": null,
   "id": "9c723c8a",
   "metadata": {},
   "outputs": [],
   "source": [
    "#Функция по определению мощности СЭС из условия необходимой выработки\n",
    "One_kW_PV = PV_Energy(1, X1, X2)\n",
    "One_kW_PV_Energy = One_kW_PV[0]\n",
    "PV_Ugol = One_kW_PV[1]\n",
    "PV_Azimuth = One_kW_PV[2]\n",
    "def PV_Power(Cons):\n",
    "    Solar_Power = round(Cons/One_kW_PV_Energy, 2)\n",
    "    return(Solar_Power)"
   ]
  },
  {
   "cell_type": "code",
   "execution_count": null,
   "id": "45225438",
   "metadata": {},
   "outputs": [],
   "source": [
    "#Калькулятор выработки СЭС по известной мощности\n",
    "print('Выработка СЭС составит = ', \n",
    "      PV_Energy(float(input('Задай мощность СЭС, кВт = ')), \n",
    "                X1, X2)[0], 'кВт*ч в год')\n",
    "print('Угол установки =', PV_Ugol, 'град.\\n'\n",
    "     'Азимут установки =', PV_Azimuth, ' град.')"
   ]
  },
  {
   "cell_type": "code",
   "execution_count": null,
   "id": "4a9364bb",
   "metadata": {},
   "outputs": [],
   "source": [
    "#Калькулятор мощности СЭС по известному потреблению\n",
    "print('Необходимая мощность СЭС = ', PV_Power(float(input('Задай потребление, кВт*ч/год = '))), 'кВт')\n",
    "print('Угол установки =', PV_Ugol, 'град.\\n'\n",
    "     'Азимут установки =', PV_Azimuth, ' град.')"
   ]
  }
 ],
 "metadata": {
  "kernelspec": {
   "display_name": "Python 3 (ipykernel)",
   "language": "python",
   "name": "python3"
  },
  "language_info": {
   "codemirror_mode": {
    "name": "ipython",
    "version": 3
   },
   "file_extension": ".py",
   "mimetype": "text/x-python",
   "name": "python",
   "nbconvert_exporter": "python",
   "pygments_lexer": "ipython3",
   "version": "3.9.7"
  }
 },
 "nbformat": 4,
 "nbformat_minor": 5
}
